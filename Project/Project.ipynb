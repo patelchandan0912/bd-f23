{
 "cells": [
  {
   "cell_type": "markdown",
   "id": "01c914ad-9011-4f06-91e5-7c3359efedc9",
   "metadata": {},
   "source": [
    "# **Project: Data-Driven Approaches to Credit Default Prediction**\n",
    "\n",
    "## <font color=darkgreen>*Members*: \n",
    "> ### <font color=blue>**Chandan Patel**<br>**Rahul Bankey** <br>**Chandni Kumari**<br>**Divyanshi Singh**\n",
    "\n",
    "## Objective: The objective to develop a predictive model capable of accurately identifying credit card users who are at risk of defaulting on their payments. This model would analyze historical transaction and user data to recognize patterns and indicators of default, allowing financial institutions to take preemptive action to minimize risk and potentially offer targeted assistance to at-risk customers. The project aims to enhance the decision-making process for credit risk management and improve the overall stability of credit lending practices.\n",
    "\n",
    "### Dataset Description\n",
    "    Banks and credit card clients often have a high risk in that they don't know if an indvidual will default on their credit card payment or not. The 10 features they have collected are:\n",
    "\n",
    "* CUSTID: Unique Customer ID\n",
    "* LIMIT_BAL: Maximum Spending Limit for the customer\n",
    "* SEX: Sex of the customer. Some records have M and F to indicate sex. Some records have 1 ( Male) and 2 (Female)\n",
    "* education: Education Level of the customer. The values are 1 (Graduate), 2 (University), 3 (High School) and 4 (Others)\n",
    "* MARRIAGE: Marital Status of the customer. The values are 1 (Single), 2 ( Married) and 3 ( Others)\n",
    "* AGE: Age of customer\n",
    "* PAY_1 to PAY_6: Payment status for the last 6 months, one column for each month. This indicates the number of months (delay)                  the customer took to pay that month’s bill\n",
    "* BILL_AMT1 to BILL_AMT6: The Billed amount for credit card for each of the last 6 months.\n",
    "* PAY_AMT1 to PAY_AMT6: The actual amount the customer paid for each of the last 6 months\n",
    "* DEFAULTED: Whether the customer defaulted or not on the 7th month. The values are 0 (did not default) and 1 (defaulted)\n",
    "    \n",
    "### Methods and Steps followed in this notebook:\n",
    "> - #### Step 1: Importing the Data\n",
    "    Importing libraries <br>\n",
    "    Establisihing the spark session.<br>\n",
    "    Loading of the dataset.\n",
    "> - #### Step 2: Data Preprocessing\n",
    "    Here will create a clean dataframe with the features that are in use\n",
    "> - #### Step 3: Data Exploration using PySpark SQL\n",
    "    Creating Temp view to query a table. <br>\n",
    "    Querying to analyse dataset\n",
    "> - #### Step 4: Feature Engineering\n",
    "    Check for correlation of features w.r.t. defaulted<br>\n",
    "    Transform to labeled Vector<br>\n",
    "    Scaling features <br>\n",
    "    Indexing\n",
    "> - #### Step 5: Machine Learning Models\n",
    "    Prepare data for machine learning.<br>\n",
    "    Split into training and testing data.<br>\n",
    "    Create and evaluate Decision Trees model.<br>\n",
    "    Create and evaluate Random Forest model.<br>\n",
    "    Create and evaluate Naive Bayes model.<br>\n",
    "    Create and evaluate Multilayer Perceptron Neural Network model.<br>\n",
    "    Create and evaluate SVC Classifier.\n",
    "> - #### Step 6: Model Evaluation\n",
    "    Model evaluation (accuracy, precision, recall, F1)\n",
    "> - #### Step 7: Interpreting the Best Classification\n",
    "    Displaying and interpreting the best classification model<br>\n",
    "    Displaying performance metrics<br>"
   ]
  },
  {
   "cell_type": "markdown",
   "id": "00577aa1-0301-4d4d-b74b-f22ea9ca33b8",
   "metadata": {},
   "source": [
    "In this notebook we will use the  dataset that provides information related to the payment of credit cards clients and store it the spark datawarehouse. We will then use the datawarehouse to access this data using spark sql.\n"
   ]
  },
  {
   "cell_type": "markdown",
   "id": "7591d186-b8c9-4efe-81ac-6a120d2b0cac",
   "metadata": {},
   "source": [
    "## Step 1: Importing the Data"
   ]
  },
  {
   "cell_type": "code",
   "execution_count": 1,
   "id": "24d67102-a173-4b1f-8b75-970897a5241a",
   "metadata": {
    "tags": []
   },
   "outputs": [],
   "source": [
    "## Load necessary libraries\n",
    "from pyspark.sql import SparkSession\n",
    "from pyspark.sql.functions import col\n",
    "from pyspark.ml.linalg import Vectors\n",
    "from pyspark.ml.feature import VectorAssembler,StringIndexer,StandardScaler\n",
    "from pyspark.ml.evaluation import MulticlassClassificationEvaluator\n",
    "from pyspark.ml.classification import (RandomForestClassifier, \n",
    "                                      DecisionTreeClassifier, \n",
    "                                      NaiveBayes,\n",
    "                                      MultilayerPerceptronClassifier)\n",
    "from pyspark.ml.clustering import KMeans\n",
    "from pyspark.sql import Row"
   ]
  },
  {
   "cell_type": "markdown",
   "id": "5d1e5752-9a2f-49bf-b55e-dbfa08593ec6",
   "metadata": {},
   "source": [
    "#### Initialize Spark Session"
   ]
  },
  {
   "cell_type": "code",
   "execution_count": 2,
   "id": "34f5568c-fe43-44d8-a14c-e0ffcefb8157",
   "metadata": {
    "tags": []
   },
   "outputs": [
    {
     "name": "stderr",
     "output_type": "stream",
     "text": [
      "23/11/09 18:27:45 WARN Utils: Your hostname, localhost.localdomain resolves to a loopback address: 127.0.0.1; using 10.21.19.148 instead (on interface eth0)\n",
      "23/11/09 18:27:45 WARN Utils: Set SPARK_LOCAL_IP if you need to bind to another address\n",
      "Setting default log level to \"WARN\".\n",
      "To adjust logging level use sc.setLogLevel(newLevel). For SparkR, use setLogLevel(newLevel).\n",
      "23/11/09 18:27:46 WARN NativeCodeLoader: Unable to load native-hadoop library for your platform... using builtin-java classes where applicable\n"
     ]
    },
    {
     "name": "stdout",
     "output_type": "stream",
     "text": [
      "Spark Session WebUI Port: 4040\n"
     ]
    }
   ],
   "source": [
    "from pyspark.sql import SparkSession;\n",
    "from pyspark.context import SparkContext;\n",
    "\n",
    "# warehouse_location points to the default location for managed databases and tables\n",
    "from os.path import abspath\n",
    "warehouse_location = abspath('spark-warehouse')\n",
    "\n",
    "spark = SparkSession \\\n",
    "    . builder \\\n",
    "    .master(\"local[*]\") \\\n",
    "    .appName(\"Big Data Analytics Project - Team Data Wizards\") \\\n",
    "    .config(\"spark.sql.warehouse.dir\", warehouse_location) \\\n",
    "    .enableHiveSupport() \\\n",
    "    .getOrCreate()\n",
    "\n",
    "sc =spark.sparkContext\n",
    "sc.setLogLevel(\"ERROR\") # only display errors (not warnings)\n",
    "\n",
    "# note: If you have multiple spark sessions running (like from a previous notebook you've run), \n",
    "# this spark session webUI will be on a different port than the default (4040). One way to \n",
    "# identify this part is with the following line. If there was only one spark session running, \n",
    "# this will be 4040. If it's higher, it means there are still other spark sesssions still running.\n",
    "spark_session_port = spark.sparkContext.uiWebUrl.split(\":\")[-1]\n",
    "print(\"Spark Session WebUI Port: \" + spark_session_port)"
   ]
  },
  {
   "cell_type": "code",
   "execution_count": 3,
   "id": "1e9c8173-eddc-4c71-84fb-ef81154cde96",
   "metadata": {
    "tags": []
   },
   "outputs": [
    {
     "data": {
      "text/html": [
       "\n",
       "            <div>\n",
       "                <p><b>SparkSession - hive</b></p>\n",
       "                \n",
       "        <div>\n",
       "            <p><b>SparkContext</b></p>\n",
       "\n",
       "            <p><a href=\"http://linux:4040\">Spark UI</a></p>\n",
       "\n",
       "            <dl>\n",
       "              <dt>Version</dt>\n",
       "                <dd><code>v3.5.0</code></dd>\n",
       "              <dt>Master</dt>\n",
       "                <dd><code>local[*]</code></dd>\n",
       "              <dt>AppName</dt>\n",
       "                <dd><code>Big Data Analytics Project - Team Data Wizards</code></dd>\n",
       "            </dl>\n",
       "        </div>\n",
       "        \n",
       "            </div>\n",
       "        "
      ],
      "text/plain": [
       "<pyspark.sql.session.SparkSession at 0x7f742cd424d0>"
      ]
     },
     "execution_count": 3,
     "metadata": {},
     "output_type": "execute_result"
    }
   ],
   "source": [
    "spark"
   ]
  },
  {
   "cell_type": "code",
   "execution_count": 4,
   "id": "9fef62e5-dd0a-40cc-a35f-d50bc38c5b48",
   "metadata": {
    "tags": []
   },
   "outputs": [
    {
     "data": {
      "text/plain": [
       "[]"
      ]
     },
     "execution_count": 4,
     "metadata": {},
     "output_type": "execute_result"
    }
   ],
   "source": [
    "spark.catalog.listTables()"
   ]
  },
  {
   "cell_type": "code",
   "execution_count": 5,
   "id": "a7c2675f-61ef-4f02-82f4-01f114270f45",
   "metadata": {
    "tags": []
   },
   "outputs": [
    {
     "name": "stdout",
     "output_type": "stream",
     "text": [
      "+---------+\n",
      "|namespace|\n",
      "+---------+\n",
      "|  default|\n",
      "+---------+\n",
      "\n"
     ]
    }
   ],
   "source": [
    "## Show theexisting  databases \n",
    "df=spark.sql(\"show databases\")\n",
    "df.show()"
   ]
  },
  {
   "cell_type": "markdown",
   "id": "8fdff6a2-adae-46d8-91cf-35844c43b229",
   "metadata": {},
   "source": [
    "#### List the tables in the database."
   ]
  },
  {
   "cell_type": "code",
   "execution_count": 6,
   "id": "347dd2d2-be68-45ba-9f6e-a962bef3032c",
   "metadata": {
    "tags": []
   },
   "outputs": [
    {
     "name": "stdout",
     "output_type": "stream",
     "text": [
      "+---------+---------+-----------+\n",
      "|namespace|tableName|isTemporary|\n",
      "+---------+---------+-----------+\n",
      "+---------+---------+-----------+\n",
      "\n"
     ]
    }
   ],
   "source": [
    "tables = spark.sql(\"show tables\").show()"
   ]
  },
  {
   "cell_type": "markdown",
   "id": "535ea890-8d79-477b-b4cf-40e02cc23308",
   "metadata": {},
   "source": [
    "Now, let's load the credit card dataset into the datawarehouse. We will use the spark dataframe API to load the data. We will then use the spark sql API to create a table from the dataframe. Load the file into a DataFrame and remove the header row."
   ]
  },
  {
   "cell_type": "code",
   "execution_count": 7,
   "id": "7707be71-45fb-4b3b-8da4-bd7baf97b6e7",
   "metadata": {},
   "outputs": [
    {
     "name": "stderr",
     "output_type": "stream",
     "text": [
      "                                                                                \r"
     ]
    },
    {
     "data": {
      "text/plain": [
       "['ID,LIMIT_BAL,SEX,EDUCATION,MARRIAGE,AGE,PAY_0,PAY_2,PAY_3,PAY_4,PAY_5,PAY_6,BILL_AMT1,BILL_AMT2,BILL_AMT3,BILL_AMT4,BILL_AMT5,BILL_AMT6,PAY_AMT1,PAY_AMT2,PAY_AMT3,PAY_AMT4,PAY_AMT5,PAY_AMT6,default payment next month',\n",
       " '1,20000,2,2,1,24,2,2,-1,-1,-2,-2,3913,3102,689,0,0,0,0,689,0,0,0,0,1',\n",
       " '2,120000,2,2,2,26,-1,2,0,0,0,2,2682,1725,2682,3272,3455,3261,0,1000,1000,1000,0,2000,1',\n",
       " '3,90000,2,2,2,34,0,0,0,0,0,0,29239,14027,13559,14331,14948,15549,1518,1500,1000,1000,1000,5000,0',\n",
       " '4,50000,2,2,1,37,0,0,0,0,0,0,46990,48233,49291,28314,28959,29547,2000,2019,1200,1100,1069,1000,0']"
      ]
     },
     "execution_count": 7,
     "metadata": {},
     "output_type": "execute_result"
    }
   ],
   "source": [
    "#Load the file into an RDD and remove the header row\n",
    "df_raw = spark.sparkContext.textFile(\"credit_card_clients_csv.csv\")\n",
    "df_raw.count()\n",
    "df_raw.take(5)"
   ]
  },
  {
   "cell_type": "code",
   "execution_count": 8,
   "id": "fd23c79d-043e-4338-8f8a-f071f1637ec1",
   "metadata": {},
   "outputs": [
    {
     "data": {
      "text/plain": [
       "30000"
      ]
     },
     "execution_count": 8,
     "metadata": {},
     "output_type": "execute_result"
    }
   ],
   "source": [
    "# Load the file into an RDD and remove the header row\n",
    "df_rows = df_raw.filter(lambda x: \"EDUCATION\" not in x)\n",
    "df_rows.count()"
   ]
  },
  {
   "cell_type": "code",
   "execution_count": 9,
   "id": "ef4d592a-6753-4466-b5ee-6bc09a15f0b3",
   "metadata": {
    "tags": []
   },
   "outputs": [
    {
     "data": {
      "text/plain": [
       "['1,20000,2,2,1,24,2,2,-1,-1,-2,-2,3913,3102,689,0,0,0,0,689,0,0,0,0,1',\n",
       " '2,120000,2,2,2,26,-1,2,0,0,0,2,2682,1725,2682,3272,3455,3261,0,1000,1000,1000,0,2000,1',\n",
       " '3,90000,2,2,2,34,0,0,0,0,0,0,29239,14027,13559,14331,14948,15549,1518,1500,1000,1000,1000,5000,0',\n",
       " '4,50000,2,2,1,37,0,0,0,0,0,0,46990,48233,49291,28314,28959,29547,2000,2019,1200,1100,1069,1000,0',\n",
       " '5,50000,1,2,1,57,-1,0,-1,0,0,0,8617,5670,35835,20940,19146,19131,2000,36681,10000,9000,689,679,0']"
      ]
     },
     "execution_count": 9,
     "metadata": {},
     "output_type": "execute_result"
    }
   ],
   "source": [
    "df_rows.take(5)"
   ]
  },
  {
   "cell_type": "markdown",
   "id": "b751ee05-1ac0-4078-b009-46bd9b10ff0d",
   "metadata": {},
   "source": [
    "## Step 2: Data Preprocessing"
   ]
  },
  {
   "cell_type": "code",
   "execution_count": 10,
   "id": "0ff00289-9eff-420b-b2e9-667627993468",
   "metadata": {
    "tags": []
   },
   "outputs": [],
   "source": [
    "def convert_To_Row(instr) :\n",
    "    feature_list = instr.split(\",\")\n",
    " \n",
    "    # rounding of age to range of 10s.    \n",
    "    age = round(float(feature_list[5]) / 10.0) * 10\n",
    "    \n",
    "    #Normalize sex to only 1 and 2.\n",
    "    gender = feature_list[2]\n",
    "    if gender ==\"M\":\n",
    "        gender=1\n",
    "    elif gender == \"F\":\n",
    "        gender=2\n",
    "    \n",
    "    # Calculate average billed amount\n",
    "    avg_Bill = (float(feature_list[12]) +  \\\n",
    "                    float(feature_list[13]) + \\\n",
    "                    float(feature_list[15]) + \\\n",
    "                    float(feature_list[16]) + \\\n",
    "                    float(feature_list[16]) + \\\n",
    "                    float(feature_list[17]) ) / 6.0\n",
    "                    \n",
    "    # Calculate average pay amount\n",
    "    avg_Pay = (float(feature_list[18]) +  \\\n",
    "                    float(feature_list[19]) + \\\n",
    "                    float(feature_list[20]) + \\\n",
    "                    float(feature_list[21]) + \\\n",
    "                    float(feature_list[22]) + \\\n",
    "                    float(feature_list[23]) ) / 6.0\n",
    "                    \n",
    "    # Calculate average pay duration \n",
    "    #Make sure numbers are rounded and negative values are eliminated\n",
    "    avg_Pay_Duration = round((abs(float(feature_list[6])) + \\\n",
    "                        abs(float(feature_list[7])) + \\\n",
    "                        abs(float(feature_list[8])) +\\\n",
    "                        abs(float(feature_list[9])) +\\\n",
    "                        abs(float(feature_list[10])) +\\\n",
    "                        abs(float(feature_list[11]))) / 6)\n",
    "    \n",
    "                    \n",
    "    values = Row (  CUSTOMER_ID = feature_list[0], \\\n",
    "                    LIMIT_BAL = float(feature_list[1]), \\\n",
    "                    GENDER = float(gender),\\\n",
    "                    EDUCATION = float(feature_list[3]),\\\n",
    "                    MARRIAGE = float(feature_list[4]),\\\n",
    "                    AGE = float(age), \\\n",
    "                    AVG_PAY_DURATION = float(avg_Pay_Duration),\\\n",
    "                    AVG_BILL_AMOUNT = abs(float(avg_Bill)), \\\n",
    "                    AVG_PAY_AMOUNT = float(avg_Pay), \\\n",
    "                    DEFAULT = float(feature_list[24]) \n",
    "                    )\n",
    "\n",
    "    return values"
   ]
  },
  {
   "cell_type": "code",
   "execution_count": 11,
   "id": "ba5670bf-a8b0-4d23-87c0-960160b1b968",
   "metadata": {
    "tags": []
   },
   "outputs": [
    {
     "data": {
      "text/plain": [
       "[Row(CUSTOMER_ID='1', LIMIT_BAL=20000.0, GENDER=2.0, EDUCATION=2.0, MARRIAGE=1.0, AGE=20.0, AVG_PAY_DURATION=2.0, AVG_BILL_AMOUNT=1169.1666666666667, AVG_PAY_AMOUNT=114.83333333333333, DEFAULT=1.0),\n",
       " Row(CUSTOMER_ID='2', LIMIT_BAL=120000.0, GENDER=2.0, EDUCATION=2.0, MARRIAGE=2.0, AGE=30.0, AVG_PAY_DURATION=1.0, AVG_BILL_AMOUNT=2975.0, AVG_PAY_AMOUNT=833.3333333333334, DEFAULT=1.0),\n",
       " Row(CUSTOMER_ID='3', LIMIT_BAL=90000.0, GENDER=2.0, EDUCATION=2.0, MARRIAGE=2.0, AGE=30.0, AVG_PAY_DURATION=0.0, AVG_BILL_AMOUNT=17173.666666666668, AVG_PAY_AMOUNT=1836.3333333333333, DEFAULT=0.0),\n",
       " Row(CUSTOMER_ID='4', LIMIT_BAL=50000.0, GENDER=2.0, EDUCATION=2.0, MARRIAGE=1.0, AGE=40.0, AVG_PAY_DURATION=0.0, AVG_BILL_AMOUNT=35167.0, AVG_PAY_AMOUNT=1398.0, DEFAULT=0.0),\n",
       " Row(CUSTOMER_ID='5', LIMIT_BAL=50000.0, GENDER=1.0, EDUCATION=2.0, MARRIAGE=1.0, AGE=60.0, AVG_PAY_DURATION=0.0, AVG_BILL_AMOUNT=15441.666666666666, AVG_PAY_AMOUNT=9841.5, DEFAULT=0.0)]"
      ]
     },
     "execution_count": 11,
     "metadata": {},
     "output_type": "execute_result"
    }
   ],
   "source": [
    "#df rows RDD    \n",
    "df_cc_row= df_rows.map(convert_To_Row)\n",
    "df_cc_row.take(5)"
   ]
  },
  {
   "cell_type": "code",
   "execution_count": 12,
   "id": "068a7ac0-ea88-4742-9e42-13bac6685adf",
   "metadata": {
    "tags": []
   },
   "outputs": [
    {
     "name": "stderr",
     "output_type": "stream",
     "text": [
      "[Stage 6:>                                                          (0 + 2) / 2]\r"
     ]
    },
    {
     "name": "stdout",
     "output_type": "stream",
     "text": [
      "+-----------+---------+------+---------+--------+----+----------------+------------------+------------------+-------+\n",
      "|CUSTOMER_ID|LIMIT_BAL|GENDER|EDUCATION|MARRIAGE| AGE|AVG_PAY_DURATION|   AVG_BILL_AMOUNT|    AVG_PAY_AMOUNT|DEFAULT|\n",
      "+-----------+---------+------+---------+--------+----+----------------+------------------+------------------+-------+\n",
      "|          1|  20000.0|   2.0|      2.0|     1.0|20.0|             2.0|1169.1666666666667|114.83333333333333|    1.0|\n",
      "|          2| 120000.0|   2.0|      2.0|     2.0|30.0|             1.0|            2975.0| 833.3333333333334|    1.0|\n",
      "|          3|  90000.0|   2.0|      2.0|     2.0|30.0|             0.0|17173.666666666668|1836.3333333333333|    0.0|\n",
      "|          4|  50000.0|   2.0|      2.0|     1.0|40.0|             0.0|           35167.0|            1398.0|    0.0|\n",
      "|          5|  50000.0|   1.0|      2.0|     1.0|60.0|             0.0|15441.666666666666|            9841.5|    0.0|\n",
      "+-----------+---------+------+---------+--------+----+----------------+------------------+------------------+-------+\n",
      "only showing top 5 rows\n",
      "\n"
     ]
    },
    {
     "name": "stderr",
     "output_type": "stream",
     "text": [
      "                                                                                \r"
     ]
    }
   ],
   "source": [
    "#Create a data frame with above row. \n",
    "df_cc = spark.createDataFrame(df_cc_row)\n",
    "df_cc.cache()\n",
    "df_cc.show(5)"
   ]
  },
  {
   "cell_type": "code",
   "execution_count": 13,
   "id": "fa715fc7-4309-4833-9513-8e8adb9cab9d",
   "metadata": {
    "tags": []
   },
   "outputs": [
    {
     "name": "stdout",
     "output_type": "stream",
     "text": [
      "root\n",
      " |-- CUSTOMER_ID: string (nullable = true)\n",
      " |-- LIMIT_BAL: double (nullable = true)\n",
      " |-- GENDER: double (nullable = true)\n",
      " |-- EDUCATION: double (nullable = true)\n",
      " |-- MARRIAGE: double (nullable = true)\n",
      " |-- AGE: double (nullable = true)\n",
      " |-- AVG_PAY_DURATION: double (nullable = true)\n",
      " |-- AVG_BILL_AMOUNT: double (nullable = true)\n",
      " |-- AVG_PAY_AMOUNT: double (nullable = true)\n",
      " |-- DEFAULT: double (nullable = true)\n",
      "\n"
     ]
    }
   ],
   "source": [
    "# check schema of the data df_cc\n",
    "df_cc.printSchema()"
   ]
  },
  {
   "cell_type": "code",
   "execution_count": 14,
   "id": "76aeb07a-c8d6-46cc-97ab-4cfdb5b72bbe",
   "metadata": {
    "tags": []
   },
   "outputs": [
    {
     "data": {
      "text/plain": [
       "30000"
      ]
     },
     "execution_count": 14,
     "metadata": {},
     "output_type": "execute_result"
    }
   ],
   "source": [
    "df_cc.count()"
   ]
  },
  {
   "cell_type": "code",
   "execution_count": 15,
   "id": "a47b8848-18ac-42e9-a0cf-253edc225e5e",
   "metadata": {
    "tags": []
   },
   "outputs": [],
   "source": [
    "#Enhance Dataframe\n",
    "import pandas as pd"
   ]
  },
  {
   "cell_type": "code",
   "execution_count": 16,
   "id": "f00a0ad8-9ddf-4dc3-a731-705259e95120",
   "metadata": {
    "tags": []
   },
   "outputs": [],
   "source": [
    "\n",
    "#Add SEXNAME to the dataframe using SQL Joins.\n",
    "gender_Dict = [{\"GENDER\" : 1.0, \"GENDER_NAME\" : \"Male\"}, \\\n",
    "                {\"GENDER\" : 2.0, \"GENDER_NAME\" : \"Female\"}]  "
   ]
  },
  {
   "cell_type": "code",
   "execution_count": 17,
   "id": "0e5e02ed-1b5f-43b8-b949-a94f3a4ec163",
   "metadata": {
    "tags": []
   },
   "outputs": [],
   "source": [
    "gender_Df = spark.createDataFrame(pd.DataFrame(gender_Dict, \\\n",
    "            columns=['GENDER', 'GENDER_NAME']))"
   ]
  },
  {
   "cell_type": "code",
   "execution_count": 18,
   "id": "3c7f2413-ff9e-4925-8a1f-b510995b26f3",
   "metadata": {
    "tags": []
   },
   "outputs": [
    {
     "data": {
      "text/plain": [
       "[Row(GENDER=1.0, GENDER_NAME='Male'), Row(GENDER=2.0, GENDER_NAME='Female')]"
      ]
     },
     "execution_count": 18,
     "metadata": {},
     "output_type": "execute_result"
    }
   ],
   "source": [
    "gender_Df.collect()"
   ]
  },
  {
   "cell_type": "code",
   "execution_count": 19,
   "id": "457e5028-036f-4a93-b7d6-703d5fb5b9d7",
   "metadata": {
    "tags": []
   },
   "outputs": [
    {
     "name": "stdout",
     "output_type": "stream",
     "text": [
      "+-----------+---------+------+---------+--------+----+----------------+------------------+------------------+-------+-----------+\n",
      "|CUSTOMER_ID|LIMIT_BAL|GENDER|EDUCATION|MARRIAGE| AGE|AVG_PAY_DURATION|   AVG_BILL_AMOUNT|    AVG_PAY_AMOUNT|DEFAULT|GENDER_NAME|\n",
      "+-----------+---------+------+---------+--------+----+----------------+------------------+------------------+-------+-----------+\n",
      "|      30000|  50000.0|   1.0|      2.0|     1.0|50.0|             0.0|35589.666666666664|1384.6666666666667|    1.0|       Male|\n",
      "|      29999|  80000.0|   1.0|      3.0|     1.0|40.0|             0.0|33693.666666666664|24530.166666666668|    1.0|       Male|\n",
      "|      29998|  30000.0|   1.0|      2.0|     2.0|40.0|             2.0|           14720.0| 5216.666666666667|    1.0|       Male|\n",
      "|      29997| 150000.0|   1.0|      3.0|     2.0|40.0|             1.0|3811.6666666666665|            2415.0|    0.0|       Male|\n",
      "|      29996| 220000.0|   1.0|      3.0|     1.0|40.0|             0.0| 91370.16666666667| 7091.666666666667|    0.0|       Male|\n",
      "+-----------+---------+------+---------+--------+----+----------------+------------------+------------------+-------+-----------+\n",
      "only showing top 5 rows\n",
      "\n"
     ]
    }
   ],
   "source": [
    "#Add SEXNAME to the dataframe using SQL Joins\n",
    "df_cc1 =df_cc.join( gender_Df, df_cc.GENDER== gender_Df.GENDER ).drop(gender_Df.GENDER)\n",
    "df_cc1.show(5)\n"
   ]
  },
  {
   "cell_type": "code",
   "execution_count": 20,
   "id": "4781e6ed-2e4c-4ac3-8319-83a0de34b44e",
   "metadata": {
    "tags": []
   },
   "outputs": [],
   "source": [
    "#Add ED_STR to the data with SQL joins.\n",
    "edu_Dict = [{\"EDUCATION\" : 1.0, \"EDC_STR\" : \"Graduate\"}, \\\n",
    "                {\"EDUCATION\" : 2.0, \"EDC_STR\" : \"University\"}, \\\n",
    "                {\"EDUCATION\" : 3.0, \"EDC_STR\" : \"High School\" }, \\\n",
    "                {\"EDUCATION\" : 4.0, \"EDC_STR\" : \"Others\"}]  "
   ]
  },
  {
   "cell_type": "code",
   "execution_count": 21,
   "id": "e493c952-72dc-4864-9766-9ba14585880b",
   "metadata": {
    "tags": []
   },
   "outputs": [],
   "source": [
    "edu_Df = spark.createDataFrame(pd.DataFrame(edu_Dict, \\\n",
    "            columns=['EDUCATION', 'EDC_STR']))"
   ]
  },
  {
   "cell_type": "code",
   "execution_count": 22,
   "id": "031e8ffe-0e78-4ec6-83cc-f65262ddd1e7",
   "metadata": {
    "tags": []
   },
   "outputs": [
    {
     "data": {
      "text/plain": [
       "[Row(EDUCATION=1.0, EDC_STR='Graduate'),\n",
       " Row(EDUCATION=2.0, EDC_STR='University'),\n",
       " Row(EDUCATION=3.0, EDC_STR='High School'),\n",
       " Row(EDUCATION=4.0, EDC_STR='Others')]"
      ]
     },
     "execution_count": 22,
     "metadata": {},
     "output_type": "execute_result"
    }
   ],
   "source": [
    "edu_Df.collect()"
   ]
  },
  {
   "cell_type": "code",
   "execution_count": 23,
   "id": "8b79e918-6000-42da-8287-f02f73cf3cdb",
   "metadata": {
    "tags": []
   },
   "outputs": [
    {
     "name": "stdout",
     "output_type": "stream",
     "text": [
      "+-----------+---------+------+---------+--------+----+----------------+------------------+------------------+-------+-----------+--------+\n",
      "|CUSTOMER_ID|LIMIT_BAL|GENDER|EDUCATION|MARRIAGE| AGE|AVG_PAY_DURATION|   AVG_BILL_AMOUNT|    AVG_PAY_AMOUNT|DEFAULT|GENDER_NAME| EDC_STR|\n",
      "+-----------+---------+------+---------+--------+----+----------------+------------------+------------------+-------+-----------+--------+\n",
      "|      29994| 100000.0|   1.0|      1.0|     2.0|40.0|             0.0|44840.833333333336|20797.333333333332|    0.0|       Male|Graduate|\n",
      "|      29990| 150000.0|   1.0|      1.0|     2.0|40.0|             1.0|2202.3333333333335|            1639.5|    0.0|       Male|Graduate|\n",
      "|      29989| 250000.0|   1.0|      1.0|     1.0|30.0|             0.0|          218000.0|           16970.0|    0.0|       Male|Graduate|\n",
      "|      29988| 130000.0|   1.0|      1.0|     2.0|30.0|             0.0|           71697.5|18505.333333333332|    0.0|       Male|Graduate|\n",
      "|      29987| 360000.0|   1.0|      1.0|     2.0|40.0|             2.0|             370.0|               0.0|    0.0|       Male|Graduate|\n",
      "+-----------+---------+------+---------+--------+----+----------------+------------------+------------------+-------+-----------+--------+\n",
      "only showing top 5 rows\n",
      "\n"
     ]
    }
   ],
   "source": [
    "df_cc2 = df_cc1.join( edu_Df, df_cc1.EDUCATION== edu_Df.EDUCATION ).drop(edu_Df.EDUCATION)\n",
    "df_cc2.show(5)"
   ]
  },
  {
   "cell_type": "code",
   "execution_count": 24,
   "id": "925f8c2c-c2e9-40ef-9f1a-07995f99b52b",
   "metadata": {
    "tags": []
   },
   "outputs": [],
   "source": [
    "\n",
    "#Add MARR_DESC to the data. Required for PR#03\n",
    "marg_Dict = [{\"MARRIAGE\" : 1.0, \"MAR_DESC\" : \"Single\"}, \\\n",
    "                {\"MARRIAGE\" : 2.0, \"MAR_DESC\" : \"Married\"}, \\\n",
    "                {\"MARRIAGE\" : 3.0, \"MAR_DESC\" : \"Others\"}]  "
   ]
  },
  {
   "cell_type": "code",
   "execution_count": 25,
   "id": "a4cd35a5-cddb-4a4e-ae0d-dbbca610cfbb",
   "metadata": {
    "tags": []
   },
   "outputs": [],
   "source": [
    "marr_Df = spark.createDataFrame(pd.DataFrame(marg_Dict, \\\n",
    "            columns=['MARRIAGE', 'MAR_DESC']))"
   ]
  },
  {
   "cell_type": "code",
   "execution_count": 26,
   "id": "31a6b06c-60c8-4972-9944-d3405f38c67a",
   "metadata": {
    "tags": []
   },
   "outputs": [
    {
     "data": {
      "text/plain": [
       "[Row(MARRIAGE=1.0, MAR_DESC='Single'),\n",
       " Row(MARRIAGE=2.0, MAR_DESC='Married'),\n",
       " Row(MARRIAGE=3.0, MAR_DESC='Others')]"
      ]
     },
     "execution_count": 26,
     "metadata": {},
     "output_type": "execute_result"
    }
   ],
   "source": [
    "marr_Df.collect()"
   ]
  },
  {
   "cell_type": "code",
   "execution_count": 27,
   "id": "4c78c1d4-2a60-4c1c-840b-55a91f5e7880",
   "metadata": {
    "tags": []
   },
   "outputs": [],
   "source": [
    "df_ccFinal = df_cc2.join( marr_Df, df_cc2.MARRIAGE== marr_Df.MARRIAGE ).drop(marr_Df.MARRIAGE)"
   ]
  },
  {
   "cell_type": "code",
   "execution_count": 28,
   "id": "13b6763f-9fd4-4102-8a04-022d9cfd73fb",
   "metadata": {
    "tags": []
   },
   "outputs": [
    {
     "data": {
      "text/plain": [
       "DataFrame[CUSTOMER_ID: string, LIMIT_BAL: double, GENDER: double, EDUCATION: double, MARRIAGE: double, AGE: double, AVG_PAY_DURATION: double, AVG_BILL_AMOUNT: double, AVG_PAY_AMOUNT: double, DEFAULT: double, GENDER_NAME: string, EDC_STR: string, MAR_DESC: string]"
      ]
     },
     "execution_count": 28,
     "metadata": {},
     "output_type": "execute_result"
    }
   ],
   "source": [
    "df_ccFinal.cache()"
   ]
  },
  {
   "cell_type": "code",
   "execution_count": 29,
   "id": "387778ba-e1c1-4aee-8b35-5bb00f03a64e",
   "metadata": {
    "tags": []
   },
   "outputs": [
    {
     "name": "stdout",
     "output_type": "stream",
     "text": [
      "+-----------+---------+------+---------+--------+----+----------------+------------------+------------------+-------+-----------+--------+--------+\n",
      "|CUSTOMER_ID|LIMIT_BAL|GENDER|EDUCATION|MARRIAGE| AGE|AVG_PAY_DURATION|   AVG_BILL_AMOUNT|    AVG_PAY_AMOUNT|DEFAULT|GENDER_NAME| EDC_STR|MAR_DESC|\n",
      "+-----------+---------+------+---------+--------+----+----------------+------------------+------------------+-------+-----------+--------+--------+\n",
      "|      29989| 250000.0|   1.0|      1.0|     1.0|30.0|             0.0|          218000.0|           16970.0|    0.0|       Male|Graduate|  Single|\n",
      "|      29980| 180000.0|   1.0|      1.0|     1.0|30.0|             2.0|               0.0|               0.0|    0.0|       Male|Graduate|  Single|\n",
      "|      29973| 190000.0|   1.0|      1.0|     1.0|40.0|             0.0|           43243.0|           32399.0|    0.0|       Male|Graduate|  Single|\n",
      "|      29971| 360000.0|   1.0|      1.0|     1.0|30.0|             1.0|28697.333333333332|27018.333333333332|    0.0|       Male|Graduate|  Single|\n",
      "|      29951| 220000.0|   1.0|      1.0|     1.0|30.0|             1.0| 400.6666666666667|             220.0|    0.0|       Male|Graduate|  Single|\n",
      "+-----------+---------+------+---------+--------+----+----------------+------------------+------------------+-------+-----------+--------+--------+\n",
      "only showing top 5 rows\n",
      "\n"
     ]
    }
   ],
   "source": [
    "df_ccFinal.show(5)"
   ]
  },
  {
   "cell_type": "code",
   "execution_count": 30,
   "id": "5ec38262-d818-4771-bccc-04539ba0cc10",
   "metadata": {
    "tags": []
   },
   "outputs": [
    {
     "data": {
      "text/plain": [
       "29601"
      ]
     },
     "execution_count": 30,
     "metadata": {},
     "output_type": "execute_result"
    }
   ],
   "source": [
    "df_ccFinal.count()"
   ]
  },
  {
   "cell_type": "markdown",
   "id": "89fce0f9-6b45-496d-bf0d-efcfbe87edf6",
   "metadata": {},
   "source": [
    "## Step 3: Data Exploration using Pyspark SQL "
   ]
  },
  {
   "cell_type": "code",
   "execution_count": 31,
   "id": "e8d4717b-14de-43b4-bf4f-b95184536d2a",
   "metadata": {
    "tags": []
   },
   "outputs": [],
   "source": [
    "#Data Exploration using Pyspark SQL\n",
    "#Create a temp view for querying the table\n",
    "df_ccFinal.createOrReplaceTempView(\"CC_TABLE\")"
   ]
  },
  {
   "cell_type": "markdown",
   "id": "bb2e69f3-320e-45d1-8ba4-38c80b999ecd",
   "metadata": {},
   "source": [
    "### Query to analyse dataset:\n",
    "Exploration-1: What is the distribution and percentage of defaults among different genders within the credit card data."
   ]
  },
  {
   "cell_type": "code",
   "execution_count": 32,
   "id": "3584905f-7b6c-4243-9898-870d45f08382",
   "metadata": {
    "tags": []
   },
   "outputs": [
    {
     "name": "stdout",
     "output_type": "stream",
     "text": [
      "+-----------+---------+------+---------+--------+----+----------------+------------------+------------------+-------+-----------+--------+--------+\n",
      "|CUSTOMER_ID|LIMIT_BAL|GENDER|EDUCATION|MARRIAGE| AGE|AVG_PAY_DURATION|   AVG_BILL_AMOUNT|    AVG_PAY_AMOUNT|DEFAULT|GENDER_NAME| EDC_STR|MAR_DESC|\n",
      "+-----------+---------+------+---------+--------+----+----------------+------------------+------------------+-------+-----------+--------+--------+\n",
      "|      29989| 250000.0|   1.0|      1.0|     1.0|30.0|             0.0|          218000.0|           16970.0|    0.0|       Male|Graduate|  Single|\n",
      "|      29980| 180000.0|   1.0|      1.0|     1.0|30.0|             2.0|               0.0|               0.0|    0.0|       Male|Graduate|  Single|\n",
      "|      29973| 190000.0|   1.0|      1.0|     1.0|40.0|             0.0|           43243.0|           32399.0|    0.0|       Male|Graduate|  Single|\n",
      "|      29971| 360000.0|   1.0|      1.0|     1.0|30.0|             1.0|28697.333333333332|27018.333333333332|    0.0|       Male|Graduate|  Single|\n",
      "|      29951| 220000.0|   1.0|      1.0|     1.0|30.0|             1.0| 400.6666666666667|             220.0|    0.0|       Male|Graduate|  Single|\n",
      "+-----------+---------+------+---------+--------+----+----------------+------------------+------------------+-------+-----------+--------+--------+\n",
      "only showing top 5 rows\n",
      "\n"
     ]
    }
   ],
   "source": [
    "## Displaying the complete table ones\n",
    "spark.sql(\"SELECT * FROM CC_TABLE\"  ).show(5)"
   ]
  },
  {
   "cell_type": "code",
   "execution_count": 33,
   "id": "daedd06d-a690-4c16-8ffe-fd6776e5440e",
   "metadata": {
    "tags": []
   },
   "outputs": [
    {
     "name": "stdout",
     "output_type": "stream",
     "text": [
      "+-----------+-----+-------+------------------+\n",
      "|GENDER_NAME|Total|Default|DEFAULT_PERCENTAGE|\n",
      "+-----------+-----+-------+------------------+\n",
      "|     Female|17855| 3744.0|              21.0|\n",
      "|       Male|11746| 2861.0|              24.0|\n",
      "+-----------+-----+-------+------------------+\n",
      "\n"
     ]
    }
   ],
   "source": [
    "spark.sql(\"SELECT GENDER_NAME, count(*) as Total, \" + \\\n",
    "                \" SUM(DEFAULT) as Default, \" + \\\n",
    "                \" ROUND(SUM(DEFAULT) * 100 / count(*)) as DEFAULT_PERCENTAGE \" + \\\n",
    "                \"FROM CC_TABLE GROUP BY GENDER_NAME\"  ).show()"
   ]
  },
  {
   "cell_type": "markdown",
   "id": "ae3148ba-ca6f-488d-ad0f-05919fd62b27",
   "metadata": {},
   "source": [
    "### Query-2 to analyse dataset:\n",
    "Exploration-2: What is the distribution between marital status, education level, and the rate of default on credit card payments within the credit card data."
   ]
  },
  {
   "cell_type": "code",
   "execution_count": 34,
   "id": "3ed07b2c-4301-4b67-b54c-ca5fc6704047",
   "metadata": {
    "tags": []
   },
   "outputs": [
    {
     "name": "stdout",
     "output_type": "stream",
     "text": [
      "+--------+-----------+-----+-------+------------------+\n",
      "|MAR_DESC|    EDC_STR|Total|Default|DEFAULT_PERCENTAGE|\n",
      "+--------+-----------+-----+-------+------------------+\n",
      "| Married|   Graduate| 6809| 1254.0|              18.0|\n",
      "| Married|High School| 1909|  452.0|              24.0|\n",
      "| Married|     Others|   68|    4.0|               6.0|\n",
      "| Married| University| 7020| 1619.0|              23.0|\n",
      "|  Others|   Graduate|   50|   13.0|              26.0|\n",
      "|  Others|High School|  103|   27.0|              26.0|\n",
      "|  Others|     Others|    3|    0.0|               0.0|\n",
      "|  Others| University|  162|   44.0|              27.0|\n",
      "|  Single|   Graduate| 3722|  769.0|              21.0|\n",
      "|  Single|High School| 2861|  754.0|              26.0|\n",
      "|  Single|     Others|   52|    3.0|               6.0|\n",
      "|  Single| University| 6842| 1666.0|              24.0|\n",
      "+--------+-----------+-----+-------+------------------+\n",
      "\n"
     ]
    }
   ],
   "source": [
    "spark.sql(\"SELECT MAR_DESC, EDC_STR, count(*) as Total,\" + \\\n",
    "                \" SUM(DEFAULT) as Default, \" + \\\n",
    "                \" ROUND(SUM(DEFAULT) * 100 / count(*)) as DEFAULT_PERCENTAGE \" + \\\n",
    "                \"FROM CC_TABLE GROUP BY MAR_DESC,EDC_STR \" + \\\n",
    "                \"ORDER BY 1,2\").show()"
   ]
  },
  {
   "cell_type": "markdown",
   "id": "ac1a2dd5-407f-44b5-af5d-ac8be88b6584",
   "metadata": {},
   "source": [
    "### Query-3 to analyse dataset:\n",
    "Exploration-3: How does the average payment duration affect the likelihood of a credit card payment default?"
   ]
  },
  {
   "cell_type": "code",
   "execution_count": 35,
   "id": "4a7c0af6-6989-42df-a424-b8e9e0e93f4c",
   "metadata": {
    "tags": []
   },
   "outputs": [
    {
     "name": "stdout",
     "output_type": "stream",
     "text": [
      "+----------------+-----+--------+------------------+\n",
      "|AVG_PAY_DURATION|Total|Defaults|DEFAULT_PERCENTAGE|\n",
      "+----------------+-----+--------+------------------+\n",
      "|             0.0|14580|  2087.0|              14.0|\n",
      "|             1.0| 9171|  2422.0|              26.0|\n",
      "|             2.0| 5595|  1918.0|              34.0|\n",
      "|             3.0|  134|    95.0|              71.0|\n",
      "|             4.0|   43|    24.0|              56.0|\n",
      "|             5.0|   58|    47.0|              81.0|\n",
      "|             6.0|   20|    12.0|              60.0|\n",
      "+----------------+-----+--------+------------------+\n",
      "\n"
     ]
    }
   ],
   "source": [
    "spark.sql(\"SELECT AVG_PAY_DURATION, count(*) as Total, \" + \\\n",
    "                \" SUM(DEFAULT) as Defaults, \" + \\\n",
    "                \" ROUND(SUM(DEFAULT) * 100 / count(*)) as DEFAULT_PERCENTAGE \" + \\\n",
    "                \"FROM CC_TABLE GROUP BY AVG_PAY_DURATION ORDER BY 1\"  ).show()"
   ]
  },
  {
   "cell_type": "markdown",
   "id": "583d3076-e80a-430f-9c68-696be2bfd296",
   "metadata": {},
   "source": [
    "## Step 4: Feature Enginnering"
   ]
  },
  {
   "cell_type": "code",
   "execution_count": 36,
   "id": "fc797d4b-92bc-4706-ba26-4e5aaef07525",
   "metadata": {
    "tags": []
   },
   "outputs": [
    {
     "name": "stdout",
     "output_type": "stream",
     "text": [
      "Correlation to DEFAULT for  LIMIT_BAL -0.15351987639350756\n",
      "Correlation to DEFAULT for  GENDER -0.03996057770544183\n",
      "Correlation to DEFAULT for  EDUCATION 0.028006077656249993\n",
      "Correlation to DEFAULT for  MARRIAGE -0.02433921568340453\n",
      "Correlation to DEFAULT for  AGE 0.009965480430169475\n",
      "Correlation to DEFAULT for  AVG_PAY_DURATION 0.21276325451503184\n",
      "Correlation to DEFAULT for  AVG_BILL_AMOUNT -0.011257333261235342\n",
      "Correlation to DEFAULT for  AVG_PAY_AMOUNT -0.10235438844349545\n",
      "Correlation to DEFAULT for  DEFAULT 1.0\n"
     ]
    }
   ],
   "source": [
    "#Check correlation among all features w.r.t. our target feature i.e. defaulted\n",
    "for i in df_cc.columns:\n",
    "    if not( isinstance(df_cc.select(i).take(1)[0][0], str)) :\n",
    "        print( \"Correlation to DEFAULT for \", i,\\\n",
    "            df_cc.stat.corr('DEFAULT',i))"
   ]
  },
  {
   "cell_type": "code",
   "execution_count": 37,
   "id": "cfa18d4b-955d-4f15-a191-c3b33c987314",
   "metadata": {
    "tags": []
   },
   "outputs": [],
   "source": [
    "import math\n",
    "from pyspark.ml.linalg import Vectors"
   ]
  },
  {
   "cell_type": "code",
   "execution_count": 38,
   "id": "d795af55-c7cb-44a3-9360-3b933fe6c1fb",
   "metadata": {
    "tags": []
   },
   "outputs": [],
   "source": [
    "\n",
    "def transform_To_Labeled_Vector(row) :\n",
    "    label = ( row[\"DEFAULT\"], \\\n",
    "            Vectors.dense([\n",
    "                row[\"AGE\"], \\\n",
    "                row[\"AVG_BILL_AMOUNT\"], \\\n",
    "                row[\"AVG_PAY_AMOUNT\"], \\\n",
    "                row[\"AVG_PAY_DURATION\"], \\\n",
    "                row[\"EDUCATION\"], \\\n",
    "                row[\"LIMIT_BAL\"], \\\n",
    "                row[\"MARRIAGE\"], \\\n",
    "                row[\"GENDER\"]\n",
    "        ]))\n",
    "    return label"
   ]
  },
  {
   "cell_type": "code",
   "execution_count": 39,
   "id": "e21a277b-34d9-40a5-86aa-f4e603be6a44",
   "metadata": {
    "tags": []
   },
   "outputs": [],
   "source": [
    "df_lv = df_ccFinal.rdd.repartition(2).map(transform_To_Labeled_Vector)"
   ]
  },
  {
   "cell_type": "code",
   "execution_count": 40,
   "id": "6d7ff8c9-87d4-4eb5-917b-d08cca762341",
   "metadata": {
    "tags": []
   },
   "outputs": [
    {
     "name": "stderr",
     "output_type": "stream",
     "text": [
      "                                                                                \r"
     ]
    }
   ],
   "source": [
    "df_ccNorm = spark.createDataFrame(df_lv,[\"default_label\", \"features_vect\"])"
   ]
  },
  {
   "cell_type": "code",
   "execution_count": 41,
   "id": "369d5ff7-dd9a-4b40-87df-1b0c0edacbfa",
   "metadata": {
    "tags": []
   },
   "outputs": [
    {
     "name": "stdout",
     "output_type": "stream",
     "text": [
      "+-------------+--------------------+\n",
      "|default_label|       features_vect|\n",
      "+-------------+--------------------+\n",
      "|          0.0|[50.0,25700.66666...|\n",
      "|          0.0|[40.0,2224.666666...|\n",
      "|          0.0|[50.0,291.0,339.5...|\n",
      "|          0.0|[30.0,478100.1666...|\n",
      "|          0.0|[30.0,5607.5,7069...|\n",
      "|          0.0|[30.0,161669.8333...|\n",
      "|          1.0|[40.0,81593.33333...|\n",
      "|          1.0|[40.0,554.6666666...|\n",
      "|          0.0|[40.0,3091.166666...|\n",
      "|          0.0|[40.0,14097.16666...|\n",
      "+-------------+--------------------+\n",
      "only showing top 10 rows\n",
      "\n"
     ]
    },
    {
     "name": "stderr",
     "output_type": "stream",
     "text": [
      "                                                                                \r"
     ]
    }
   ],
   "source": [
    "df_ccNorm.select(\"default_label\",\"features_vect\").show(10)"
   ]
  },
  {
   "cell_type": "code",
   "execution_count": 42,
   "id": "d8abf6a1-66c7-4207-8a0f-8f1554a5116f",
   "metadata": {
    "tags": []
   },
   "outputs": [
    {
     "data": {
      "text/plain": [
       "DataFrame[default_label: double, features_vect: vector]"
      ]
     },
     "execution_count": 42,
     "metadata": {},
     "output_type": "execute_result"
    }
   ],
   "source": [
    "df_ccNorm.cache()"
   ]
  },
  {
   "cell_type": "code",
   "execution_count": 43,
   "id": "63abbc20-241d-4426-82c3-a6fc4fcf6b7b",
   "metadata": {
    "tags": []
   },
   "outputs": [
    {
     "name": "stderr",
     "output_type": "stream",
     "text": [
      "                                                                                \r"
     ]
    }
   ],
   "source": [
    "## Standard Scaling\n",
    "from pyspark.ml.feature import StandardScaler\n",
    "scaler = StandardScaler(inputCol= \"features_vect\", outputCol=\"scaled_features\")\n",
    "scaler_model= scaler.fit(df_ccNorm)\n",
    "df_ccScaled=scaler_model.transform(df_ccNorm)"
   ]
  },
  {
   "cell_type": "code",
   "execution_count": 44,
   "id": "f367c352-f6d7-46bf-adfa-1d3cecc8bc04",
   "metadata": {
    "tags": []
   },
   "outputs": [],
   "source": [
    "#Performing Indexing\n",
    "from pyspark.ml.feature import StringIndexer\n",
    "string_Indexer = StringIndexer(inputCol=\"default_label\", outputCol=\"indexed\")"
   ]
  },
  {
   "cell_type": "code",
   "execution_count": 45,
   "id": "495aba24-5121-469b-ab70-36df677ab886",
   "metadata": {
    "tags": []
   },
   "outputs": [],
   "source": [
    "Indexed_model = string_Indexer.fit(df_ccScaled)"
   ]
  },
  {
   "cell_type": "code",
   "execution_count": 46,
   "id": "a99cb192-e1eb-4f84-a967-fe668dc1ec02",
   "metadata": {
    "tags": []
   },
   "outputs": [],
   "source": [
    "data = Indexed_model.transform(df_ccScaled)"
   ]
  },
  {
   "cell_type": "code",
   "execution_count": 47,
   "id": "0fed82f7-ce2b-48e2-a120-cbd9198fa923",
   "metadata": {
    "tags": []
   },
   "outputs": [
    {
     "data": {
      "text/plain": [
       "29601"
      ]
     },
     "execution_count": 47,
     "metadata": {},
     "output_type": "execute_result"
    }
   ],
   "source": [
    "data.count()"
   ]
  },
  {
   "cell_type": "code",
   "execution_count": 48,
   "id": "848e2713-aa04-4788-b9dc-9688401ce2a3",
   "metadata": {
    "tags": []
   },
   "outputs": [],
   "source": [
    "import pandas as pd \n",
    "import matplotlib.pyplot as plt"
   ]
  },
  {
   "cell_type": "code",
   "execution_count": 49,
   "id": "0e977736-8d70-4b59-907e-3071efa45074",
   "metadata": {
    "tags": []
   },
   "outputs": [],
   "source": [
    "# aggregate the count of defaults\n",
    "default_counts = data.groupBy('default_label').count()\n",
    "# convert the pandas dataframe for plotting\n",
    "default_counts_pandas = default_counts.toPandas()\n",
    "# Rename the default_label for clarity in the plot\n",
    "default_counts_pandas['default_label'] = default_counts_pandas['default_label'].map({0: 'Did Not Default', 1: 'Defaulted'})"
   ]
  },
  {
   "cell_type": "code",
   "execution_count": 50,
   "id": "c378bf01-3551-4f9b-9a38-307f51b3cc41",
   "metadata": {
    "tags": []
   },
   "outputs": [
    {
     "data": {
      "image/png": "[encoded data removed]",
      "text/plain": [
       "<Figure size 640x480 with 1 Axes>"
      ]
     },
     "metadata": {},
     "output_type": "display_data"
    }
   ],
   "source": [
    "# Plot\n",
    "plt.bar(default_counts_pandas['default_label'], default_counts_pandas['count'], alpha=0.8)\n",
    "plt.title('Frequency of Defaults in Dataset')\n",
    "plt.ylabel('Frequency')\n",
    "plt.xlabel('Default Status')\n",
    "plt.xticks(rotation=45)  # Rotate x-axis labels if necessary\n",
    "plt.show()"
   ]
  },
  {
   "cell_type": "code",
   "execution_count": 51,
   "id": "650caef5-ca9a-4bf8-84aa-c6d4275d6014",
   "metadata": {
    "tags": []
   },
   "outputs": [],
   "source": [
    "#Split daat in train and test as 70:30 ratio\n",
    "(train_Data, test_Data) = data.randomSplit([0.7, 0.3], seed=12345)"
   ]
  },
  {
   "cell_type": "code",
   "execution_count": 52,
   "id": "cdc507ad-cebf-4b26-8394-8db2895c8bff",
   "metadata": {
    "tags": []
   },
   "outputs": [
    {
     "data": {
      "text/plain": [
       "20523"
      ]
     },
     "execution_count": 52,
     "metadata": {},
     "output_type": "execute_result"
    }
   ],
   "source": [
    "train_Data.count()"
   ]
  },
  {
   "cell_type": "code",
   "execution_count": 53,
   "id": "06ecd3fb-f097-4ff9-862b-37c71d72b3b4",
   "metadata": {
    "tags": []
   },
   "outputs": [
    {
     "data": {
      "text/plain": [
       "9078"
      ]
     },
     "execution_count": 53,
     "metadata": {},
     "output_type": "execute_result"
    }
   ],
   "source": [
    "test_Data.count()"
   ]
  },
  {
   "cell_type": "markdown",
   "id": "729424e2-c12d-47b8-b82e-ebe815baf2aa",
   "metadata": {},
   "source": [
    "## Step 5: Machine Learning Models"
   ]
  },
  {
   "cell_type": "code",
   "execution_count": 54,
   "id": "80f3c434-63f2-46c1-b7cf-44ad109a8b8c",
   "metadata": {
    "tags": []
   },
   "outputs": [],
   "source": [
    "from pyspark.ml.classification import RandomForestClassifier\n",
    "from pyspark.ml.classification import DecisionTreeClassifier\n",
    "from pyspark.ml.classification import NaiveBayes, NaiveBayesModel\n",
    "from pyspark.ml.classification import MultilayerPerceptronClassifier\n",
    "from pyspark.ml.classification import LinearSVC\n",
    "from pyspark.ml.evaluation import MulticlassClassificationEvaluator\n",
    "from sklearn.metrics import confusion_matrix\n",
    "from sklearn.metrics import accuracy_score, classification_report, confusion_matrix, ConfusionMatrixDisplay\n",
    "import warnings\n",
    "warnings.filterwarnings('ignore')\n",
    "from pyspark.sql.functions import when, col, lit\n",
    "from pyspark.sql.types import FloatType\n",
    "from pyspark.sql.types import StructType, StructField, StringType, FloatType"
   ]
  },
  {
   "cell_type": "code",
   "execution_count": 55,
   "id": "80e631a5-8760-4251-a7ad-02b49203a4c7",
   "metadata": {
    "tags": []
   },
   "outputs": [],
   "source": [
    "# Define the schema\n",
    "performance_schema = StructType([\n",
    "    StructField(\"Model\", StringType(), True),\n",
    "    StructField(\"Accuracy\", FloatType(), True),\n",
    "    StructField(\"Precision\", FloatType(), True),\n",
    "    StructField(\"Recall\", FloatType(), True),\n",
    "    StructField(\"F1\", FloatType(), True)\n",
    "])\n"
   ]
  },
  {
   "cell_type": "code",
   "execution_count": 56,
   "id": "05747a03-57ba-4b78-a723-628956bb1cdb",
   "metadata": {
    "tags": []
   },
   "outputs": [],
   "source": [
    "# Create an empty DataFrame with the defined schema\n",
    "performance = spark.createDataFrame([], schema=performance_schema)"
   ]
  },
  {
   "cell_type": "markdown",
   "id": "0123d8c4-f8cc-49cf-9dd3-b2e96b689a86",
   "metadata": {},
   "source": [
    "### 5.1 Decision Tree"
   ]
  },
  {
   "cell_type": "code",
   "execution_count": 57,
   "id": "adc16fe0-d119-4bb6-a44f-f148dbf5c2e4",
   "metadata": {
    "tags": []
   },
   "outputs": [],
   "source": [
    "#Create the Decision Trees model\n",
    "dt = DecisionTreeClassifier(labelCol=\"indexed\", \\\n",
    "                featuresCol=\"scaled_features\")"
   ]
  },
  {
   "cell_type": "code",
   "execution_count": 58,
   "id": "ea906fc5-d9ea-47de-9b51-92b501a766c3",
   "metadata": {
    "tags": []
   },
   "outputs": [],
   "source": [
    "dt_Mod = dt.fit(train_Data)"
   ]
  },
  {
   "cell_type": "code",
   "execution_count": 59,
   "id": "a1aff475-a116-42dd-a67b-51d1b6d8a60f",
   "metadata": {
    "tags": []
   },
   "outputs": [
    {
     "name": "stdout",
     "output_type": "stream",
     "text": [
      "+----------+-------+-------------+--------------------+\n",
      "|prediction|indexed|default_label|     scaled_features|\n",
      "+----------+-------+-------------+--------------------+\n",
      "|       0.0|    0.0|          0.0|[2.02490488236881...|\n",
      "|       0.0|    0.0|          0.0|[2.02490488236881...|\n",
      "|       0.0|    0.0|          0.0|[2.02490488236881...|\n",
      "|       0.0|    0.0|          0.0|[2.02490488236881...|\n",
      "|       0.0|    0.0|          0.0|[2.02490488236881...|\n",
      "+----------+-------+-------------+--------------------+\n",
      "only showing top 5 rows\n",
      "\n"
     ]
    }
   ],
   "source": [
    "#Predict on the test data\n",
    "predict = dt_Mod.transform(test_Data)\n",
    "predict.select(\"prediction\",\"indexed\",\"default_label\",\"scaled_features\").show(5)"
   ]
  },
  {
   "cell_type": "code",
   "execution_count": 60,
   "id": "0683fa25-e887-48b1-a57f-1967a5a38c65",
   "metadata": {
    "tags": []
   },
   "outputs": [],
   "source": [
    "# Evaluate the model\n",
    "evaluator = MulticlassClassificationEvaluator(labelCol=\"indexed\", predictionCol=\"prediction\")\n",
    "accuracy = evaluator.evaluate(predict, {evaluator.metricName: \"accuracy\"})\n",
    "precision = evaluator.evaluate(predict, {evaluator.metricName: \"weightedPrecision\"})\n",
    "recall = evaluator.evaluate(predict, {evaluator.metricName: \"weightedRecall\"})\n",
    "f1 = evaluator.evaluate(predict, {evaluator.metricName: \"f1\"})"
   ]
  },
  {
   "cell_type": "code",
   "execution_count": 61,
   "id": "5f6aef02-257a-49ad-8db3-2d39dee743f3",
   "metadata": {
    "tags": []
   },
   "outputs": [],
   "source": [
    "# Add the performance metrics to the DataFrame\n",
    "newRow = spark.createDataFrame([(\"Decision Tree\", accuracy, precision, recall, f1)], schema=performance_schema)\n",
    "performance = performance.union(newRow)"
   ]
  },
  {
   "cell_type": "code",
   "execution_count": 62,
   "id": "ade1b7d6-f9d3-4241-a540-42a936e1e65a",
   "metadata": {
    "tags": []
   },
   "outputs": [
    {
     "name": "stdout",
     "output_type": "stream",
     "text": [
      "+-------------+----------+---------+----------+---------+\n",
      "|        Model|  Accuracy|Precision|    Recall|       F1|\n",
      "+-------------+----------+---------+----------+---------+\n",
      "|Decision Tree|0.78398323|0.7523158|0.78398323|0.7347263|\n",
      "+-------------+----------+---------+----------+---------+\n",
      "\n"
     ]
    }
   ],
   "source": [
    "performance.show()"
   ]
  },
  {
   "cell_type": "code",
   "execution_count": 63,
   "id": "df0a0d54-16a7-4a4a-9d27-ef11f520bae7",
   "metadata": {
    "tags": []
   },
   "outputs": [],
   "source": [
    "# Calculate confusion matrix\n",
    "confusion_matrix_dt = predict.groupBy('indexed').pivot('prediction', [0, 1]).count()"
   ]
  },
  {
   "cell_type": "code",
   "execution_count": 64,
   "id": "01554eb2-2676-4880-b8f8-9f1e8a6a50ed",
   "metadata": {
    "tags": []
   },
   "outputs": [
    {
     "name": "stdout",
     "output_type": "stream",
     "text": [
      "+-------+----+---+\n",
      "|indexed|   0|  1|\n",
      "+-------+----+---+\n",
      "|    0.0|6754|239|\n",
      "|    1.0|1722|363|\n",
      "+-------+----+---+\n",
      "\n"
     ]
    }
   ],
   "source": [
    "# Display confusion matrix\n",
    "confusion_matrix_dt.show()"
   ]
  },
  {
   "cell_type": "markdown",
   "id": "6c55c5f6-afb1-450b-9dac-b5c41f46df41",
   "metadata": {},
   "source": [
    "### 5.2 Random Forest Model"
   ]
  },
  {
   "cell_type": "code",
   "execution_count": 65,
   "id": "bee41d12-ee03-4aff-8fe7-63c95cc5010e",
   "metadata": {
    "tags": []
   },
   "outputs": [],
   "source": [
    "#Create the Random Forest model\n",
    "rf_classifier = RandomForestClassifier(labelCol=\"indexed\", \\\n",
    "                featuresCol=\"scaled_features\")\n",
    "rf_Model = rf_classifier.fit(train_Data)"
   ]
  },
  {
   "cell_type": "code",
   "execution_count": 66,
   "id": "5006cd77-03e9-4e45-99dd-c47053df4702",
   "metadata": {
    "tags": []
   },
   "outputs": [
    {
     "name": "stdout",
     "output_type": "stream",
     "text": [
      "+----------+-------+-------------+--------------------+\n",
      "|prediction|indexed|default_label|     scaled_features|\n",
      "+----------+-------+-------------+--------------------+\n",
      "|       0.0|    0.0|          0.0|[2.02490488236881...|\n",
      "|       0.0|    0.0|          0.0|[2.02490488236881...|\n",
      "|       0.0|    0.0|          0.0|[2.02490488236881...|\n",
      "|       0.0|    0.0|          0.0|[2.02490488236881...|\n",
      "|       0.0|    0.0|          0.0|[2.02490488236881...|\n",
      "+----------+-------+-------------+--------------------+\n",
      "only showing top 5 rows\n",
      "\n"
     ]
    }
   ],
   "source": [
    "#Predict on the test data\n",
    "predict = rf_Model.transform(test_Data)\n",
    "predict.select(\"prediction\",\"indexed\",\"default_label\",\"scaled_features\").show(5)"
   ]
  },
  {
   "cell_type": "code",
   "execution_count": 67,
   "id": "afe28f27-fe64-444a-9c4e-1377fa529e50",
   "metadata": {
    "tags": []
   },
   "outputs": [],
   "source": [
    "# Evaluate the model\n",
    "evaluator = MulticlassClassificationEvaluator(labelCol=\"indexed\", predictionCol=\"prediction\")\n",
    "accuracy = evaluator.evaluate(predict, {evaluator.metricName: \"accuracy\"})\n",
    "precision = evaluator.evaluate(predict, {evaluator.metricName: \"weightedPrecision\"})\n",
    "recall = evaluator.evaluate(predict, {evaluator.metricName: \"weightedRecall\"})\n",
    "f1 = evaluator.evaluate(predict, {evaluator.metricName: \"f1\"})"
   ]
  },
  {
   "cell_type": "code",
   "execution_count": 68,
   "id": "8622ee95-1cb1-48cf-85a6-59937d66ff4c",
   "metadata": {
    "tags": []
   },
   "outputs": [],
   "source": [
    "# Add the performance metrics to the DataFrame\n",
    "newRow = spark.createDataFrame([(\"Random Forest\", accuracy, precision, recall, f1)], schema=performance_schema)\n",
    "performance = performance.union(newRow)"
   ]
  },
  {
   "cell_type": "code",
   "execution_count": 69,
   "id": "f2a702f5-4026-4767-add1-20afc2200950",
   "metadata": {
    "tags": []
   },
   "outputs": [
    {
     "name": "stdout",
     "output_type": "stream",
     "text": [
      "+-------------+----------+----------+----------+---------+\n",
      "|        Model|  Accuracy| Precision|    Recall|       F1|\n",
      "+-------------+----------+----------+----------+---------+\n",
      "|Decision Tree|0.78398323| 0.7523158|0.78398323|0.7347263|\n",
      "|Random Forest|0.77572155|0.74049866|0.77572155|0.6987531|\n",
      "+-------------+----------+----------+----------+---------+\n",
      "\n"
     ]
    }
   ],
   "source": [
    "performance.show()"
   ]
  },
  {
   "cell_type": "code",
   "execution_count": 70,
   "id": "25241ebc-0136-4118-9c0c-92453cc36a2a",
   "metadata": {
    "tags": []
   },
   "outputs": [],
   "source": [
    "# Calculate confusion matrix\n",
    "confusion_matrix_rf = predict.groupBy('indexed').pivot('prediction', [0, 1]).count()"
   ]
  },
  {
   "cell_type": "code",
   "execution_count": 71,
   "id": "9c0cd59c-03aa-45fe-b9fd-43b787433c9e",
   "metadata": {
    "tags": []
   },
   "outputs": [
    {
     "name": "stdout",
     "output_type": "stream",
     "text": [
      "+-------+----+---+\n",
      "|indexed|   0|  1|\n",
      "+-------+----+---+\n",
      "|    0.0|6904| 89|\n",
      "|    1.0|1947|138|\n",
      "+-------+----+---+\n",
      "\n"
     ]
    }
   ],
   "source": [
    "# Display confusion matrix\n",
    "confusion_matrix_rf.show()"
   ]
  },
  {
   "cell_type": "markdown",
   "id": "783db21f-96eb-46f0-971d-12f3d8e4fa05",
   "metadata": {},
   "source": [
    "### 5.3 Naive Bayes Model"
   ]
  },
  {
   "cell_type": "code",
   "execution_count": 72,
   "id": "325532b2-ee02-4824-85d6-ca3e0315ad9e",
   "metadata": {
    "tags": []
   },
   "outputs": [],
   "source": [
    "#Create the Naive Bayes model\n",
    "nb = NaiveBayes(labelCol=\"indexed\", \\\n",
    "                featuresCol=\"scaled_features\")\n",
    "nb_mod = nb.fit(train_Data)"
   ]
  },
  {
   "cell_type": "code",
   "execution_count": 73,
   "id": "7a4ef248-442e-4ee6-b16a-04d4161204ea",
   "metadata": {
    "tags": []
   },
   "outputs": [
    {
     "data": {
      "text/plain": [
       "DataFrame[prediction: double, indexed: double, default_label: double, scaled_features: vector]"
      ]
     },
     "execution_count": 73,
     "metadata": {},
     "output_type": "execute_result"
    }
   ],
   "source": [
    "#Predict on the test data\n",
    "predict = nb_mod.transform(test_Data)\n",
    "predict.select(\"prediction\",\"indexed\",\"default_label\",\"scaled_features\")"
   ]
  },
  {
   "cell_type": "code",
   "execution_count": 74,
   "id": "8c42057c-e729-4046-9aab-d08a787ef4a8",
   "metadata": {
    "tags": []
   },
   "outputs": [],
   "source": [
    "# Evaluate the model\n",
    "evaluator = MulticlassClassificationEvaluator(labelCol=\"indexed\", predictionCol=\"prediction\")\n",
    "accuracy = evaluator.evaluate(predict, {evaluator.metricName: \"accuracy\"})\n",
    "precision = evaluator.evaluate(predict, {evaluator.metricName: \"weightedPrecision\"})\n",
    "recall = evaluator.evaluate(predict, {evaluator.metricName: \"weightedRecall\"})\n",
    "f1 = evaluator.evaluate(predict, {evaluator.metricName: \"f1\"})"
   ]
  },
  {
   "cell_type": "code",
   "execution_count": 75,
   "id": "1677ad6d-320d-4415-9557-bd233254eaf9",
   "metadata": {
    "tags": []
   },
   "outputs": [],
   "source": [
    "# Add the performance metrics to the DataFrame\n",
    "newRow = spark.createDataFrame([(\"Naive Bayes\", accuracy, precision, recall, f1)], schema=performance_schema)\n",
    "performance = performance.union(newRow)"
   ]
  },
  {
   "cell_type": "code",
   "execution_count": 76,
   "id": "b0c55fe6-8fb9-4f3d-8b3a-e99cd45ce17b",
   "metadata": {
    "tags": []
   },
   "outputs": [],
   "source": [
    "# Calculate confusion matrix\n",
    "confusion_matrix_nb = predict.groupBy('indexed').pivot('prediction', [0, 1]).count()"
   ]
  },
  {
   "cell_type": "code",
   "execution_count": 77,
   "id": "17a6ded5-520a-48f7-8c60-34a326ed4873",
   "metadata": {
    "tags": []
   },
   "outputs": [
    {
     "name": "stdout",
     "output_type": "stream",
     "text": [
      "+-------+----+---+\n",
      "|indexed|   0|  1|\n",
      "+-------+----+---+\n",
      "|    0.0|6889|104|\n",
      "|    1.0|1951|134|\n",
      "+-------+----+---+\n",
      "\n"
     ]
    }
   ],
   "source": [
    "# Display confusion matrix\n",
    "confusion_matrix_nb.show()"
   ]
  },
  {
   "cell_type": "markdown",
   "id": "bdde4ed0-e691-44ff-b583-2aeb6f769f9c",
   "metadata": {},
   "source": [
    "### 5.4 SVC Classifier"
   ]
  },
  {
   "cell_type": "code",
   "execution_count": 78,
   "id": "4d2de47c-f483-4a71-a37f-7de12c0cde16",
   "metadata": {},
   "outputs": [],
   "source": [
    "svc = LinearSVC(labelCol='indexed',\n",
    "                featuresCol= \"scaled_features\")\n",
    "svc_model = svc.fit(train_Data)"
   ]
  },
  {
   "cell_type": "code",
   "execution_count": 79,
   "id": "41fc081f-d1d9-46e7-ad1c-f25eff2d6f08",
   "metadata": {},
   "outputs": [
    {
     "data": {
      "text/plain": [
       "DataFrame[prediction: double, indexed: double, default_label: double, scaled_features: vector]"
      ]
     },
     "execution_count": 79,
     "metadata": {},
     "output_type": "execute_result"
    }
   ],
   "source": [
    "#Predict on the test data\n",
    "predict = svc_model.transform(test_Data)\n",
    "predict.select(\"prediction\",\"indexed\",\"default_label\",\"scaled_features\")"
   ]
  },
  {
   "cell_type": "code",
   "execution_count": 80,
   "id": "c08e8c84-9f0c-4691-88e5-e6fe6f4860af",
   "metadata": {},
   "outputs": [],
   "source": [
    "# Evaluate the model\n",
    "evaluator = MulticlassClassificationEvaluator(labelCol=\"indexed\", predictionCol=\"prediction\")\n",
    "accuracy = evaluator.evaluate(predict, {evaluator.metricName: \"accuracy\"})\n",
    "precision = evaluator.evaluate(predict, {evaluator.metricName: \"weightedPrecision\"})\n",
    "recall = evaluator.evaluate(predict, {evaluator.metricName: \"weightedRecall\"})\n",
    "f1 = evaluator.evaluate(predict, {evaluator.metricName: \"f1\"})"
   ]
  },
  {
   "cell_type": "code",
   "execution_count": 81,
   "id": "6c4ec533-42a6-46de-bcfd-1560884e40dc",
   "metadata": {},
   "outputs": [],
   "source": [
    "# Add the performance metrics to the DataFrame\n",
    "newRow = spark.createDataFrame([(\"SVC Classifier\", accuracy, precision, recall, f1)], schema=performance_schema)\n",
    "performance = performance.union(newRow)"
   ]
  },
  {
   "cell_type": "code",
   "execution_count": 82,
   "id": "3edec1c7-b014-46d2-af31-6ec22d7c0c20",
   "metadata": {},
   "outputs": [],
   "source": [
    "# Calculate confusion matrix\n",
    "confusion_matrix_svc = predict.groupBy('indexed').pivot('prediction', [0, 1]).count()"
   ]
  },
  {
   "cell_type": "code",
   "execution_count": 83,
   "id": "8c493db9-90eb-40c0-97f7-98e8b89dbd5c",
   "metadata": {},
   "outputs": [
    {
     "name": "stdout",
     "output_type": "stream",
     "text": [
      "+-------+----+----+\n",
      "|indexed|   0|   1|\n",
      "+-------+----+----+\n",
      "|    0.0|6993|NULL|\n",
      "|    1.0|2085|NULL|\n",
      "+-------+----+----+\n",
      "\n"
     ]
    }
   ],
   "source": [
    "# Display confusion matrix\n",
    "confusion_matrix_svc.show()"
   ]
  },
  {
   "cell_type": "markdown",
   "id": "f5b33fb4-48b6-4178-ac5c-4ac7d411d91b",
   "metadata": {},
   "source": [
    "### 5.5 MLP Classifier"
   ]
  },
  {
   "cell_type": "code",
   "execution_count": 84,
   "id": "7dece5a6-360d-4207-867d-4f6ec39aa8f2",
   "metadata": {
    "tags": []
   },
   "outputs": [],
   "source": [
    "input_neurons= len(train_Data.first().scaled_features)\n",
    "layers = [input_neurons,24,18,2]"
   ]
  },
  {
   "cell_type": "code",
   "execution_count": 85,
   "id": "4f1235a9-0ae0-4c2f-b973-13cd8660c76e",
   "metadata": {
    "tags": []
   },
   "outputs": [],
   "source": [
    "mpl = MultilayerPerceptronClassifier(labelCol='indexed',\n",
    "                                     featuresCol= \"scaled_features\",\n",
    "                                    layers = layers,\n",
    "                                    seed=20)\n",
    "mpl_model = mpl.fit(train_Data)"
   ]
  },
  {
   "cell_type": "code",
   "execution_count": 86,
   "id": "f1bd8dd1-8ef9-4c43-9cf1-8550b53ed571",
   "metadata": {
    "tags": []
   },
   "outputs": [
    {
     "data": {
      "text/plain": [
       "DataFrame[prediction: double, indexed: double, default_label: double, scaled_features: vector]"
      ]
     },
     "execution_count": 86,
     "metadata": {},
     "output_type": "execute_result"
    }
   ],
   "source": [
    "#Predict on the test data\n",
    "predict = mpl_model.transform(test_Data)\n",
    "predict.select(\"prediction\",\"indexed\",\"default_label\",\"scaled_features\")"
   ]
  },
  {
   "cell_type": "code",
   "execution_count": 87,
   "id": "736c012a-d059-429b-8b2b-e624417d93b8",
   "metadata": {
    "tags": []
   },
   "outputs": [],
   "source": [
    "# Evaluate the model\n",
    "evaluator = MulticlassClassificationEvaluator(labelCol=\"indexed\", predictionCol=\"prediction\")\n",
    "accuracy = evaluator.evaluate(predict, {evaluator.metricName: \"accuracy\"})\n",
    "precision = evaluator.evaluate(predict, {evaluator.metricName: \"weightedPrecision\"})\n",
    "recall = evaluator.evaluate(predict, {evaluator.metricName: \"weightedRecall\"})\n",
    "f1 = evaluator.evaluate(predict, {evaluator.metricName: \"f1\"})"
   ]
  },
  {
   "cell_type": "code",
   "execution_count": 88,
   "id": "d65ebcc1-95d5-4703-bdbd-d2458df2780d",
   "metadata": {
    "tags": []
   },
   "outputs": [],
   "source": [
    "# Add the performance metrics to the DataFrame\n",
    "newRow = spark.createDataFrame([(\"MLP Classifier\", accuracy, precision, recall, f1)], schema=performance_schema)\n",
    "performance = performance.union(newRow)"
   ]
  },
  {
   "cell_type": "code",
   "execution_count": 89,
   "id": "84f174a0-438f-4c50-8a6d-ae3af4118592",
   "metadata": {
    "tags": []
   },
   "outputs": [],
   "source": [
    "# Calculate confusion matrix\n",
    "confusion_matrix_mlp = predict.groupBy('indexed').pivot('prediction', [0, 1]).count()"
   ]
  },
  {
   "cell_type": "code",
   "execution_count": 90,
   "id": "5011dfa2-3b47-4101-9a92-20cd5f8add3c",
   "metadata": {
    "tags": []
   },
   "outputs": [
    {
     "name": "stdout",
     "output_type": "stream",
     "text": [
      "+-------+----+---+\n",
      "|indexed|   0|  1|\n",
      "+-------+----+---+\n",
      "|    0.0|6654|339|\n",
      "|    1.0|1605|480|\n",
      "+-------+----+---+\n",
      "\n"
     ]
    }
   ],
   "source": [
    "# Display confusion matrix\n",
    "confusion_matrix_mlp.show()"
   ]
  },
  {
   "cell_type": "markdown",
   "id": "3a454c63-d53d-4f44-981b-9c76e12de407",
   "metadata": {},
   "source": [
    "## Step 6: Model Evaluation\n",
    "#### Metric Evaluation of the above machine learning models(accuracy, precision, recall, F1)"
   ]
  },
  {
   "cell_type": "code",
   "execution_count": 91,
   "id": "affdf4a6-eb47-43d9-b697-ca5a6977aaea",
   "metadata": {
    "tags": []
   },
   "outputs": [
    {
     "name": "stdout",
     "output_type": "stream",
     "text": [
      "+--------------+----------+----------+----------+---------+\n",
      "|         Model|  Accuracy| Precision|    Recall|       F1|\n",
      "+--------------+----------+----------+----------+---------+\n",
      "| Decision Tree|0.78398323| 0.7523158|0.78398323|0.7347263|\n",
      "| Random Forest|0.77572155|0.74049866|0.77572155|0.6987531|\n",
      "|   Naive Bayes|0.77362853| 0.7296258|0.77362853|0.6968391|\n",
      "|SVC Classifier| 0.7703239|0.59339887| 0.7703239|0.6703845|\n",
      "|MLP Classifier| 0.7858559| 0.7552329| 0.7858559|0.7480654|\n",
      "+--------------+----------+----------+----------+---------+\n",
      "\n"
     ]
    },
    {
     "name": "stderr",
     "output_type": "stream",
     "text": [
      "                                                                                \r"
     ]
    }
   ],
   "source": [
    "performance.show()"
   ]
  },
  {
   "cell_type": "markdown",
   "id": "9f8e3e38-ea96-4439-b0a1-425bd7a3049a",
   "metadata": {},
   "source": [
    "## Step 7: Interpreting the best Classification Model"
   ]
  },
  {
   "cell_type": "markdown",
   "id": "6bc19057-e03f-4aed-9801-c010584ae6be",
   "metadata": {},
   "source": [
    "The performance metrics displayed above are pivotal for assessing the effectiveness of the various machine learning models used in predicting credit card defaulters. The metrics shown are:\n",
    "\n",
    "* Accuracy: The proportion of total correct predictions (both true positives and true negatives) over all predictions.\n",
    "* Precision: The proportion of true positive predictions over all positive predictions (the number of true positives divided by the sum of true positives and false positives).\n",
    "* Recall: Also known as sensitivity, it measures the proportion of actual positives that were correctly identified (the number of true positives divided by the sum of true positives and false negatives).\n",
    "* F1 Score: The harmonic mean of precision and recall, which provides a balance between the two metrics, especially in cases where there is an uneven class distribution.\n"
   ]
  },
  {
   "cell_type": "markdown",
   "id": "f1b518d6-8e78-4fab-8333-70469682d108",
   "metadata": {},
   "source": [
    "### Selection of Metric in our case\n",
    "For the business objective of predicting credit card defaulters, each metric provides a different lens on the model's performance:\n",
    "\n",
    "Accuracy is less informative in this context, especially if the dataset is imbalanced (which is often the case in default prediction, as defaults are less common than non-defaults). High accuracy could be achieved by predicting 'No Default' for all cases, which would be misleading.\n",
    "\n",
    "Precision would be crucial for a bank or financial institution since it measures the likelihood that a customer predicted as a defaulter is indeed a defaulter. High precision reduces the chance of incorrectly labeling a customer as at risk, which could damage the relationship with the customer.\n",
    "\n",
    "Recall is also important because it measures how well the model identifies actual defaulters. A model with low recall might overlook too many high-risk customers, leading to financial losses for the institution.\n",
    "\n",
    "F1 Score is often the most relevant metric in this situation, as it provides a balance between precision and recall. For credit default prediction, where both false positives (incorrectly labeling customers as defaulters) and false negatives (failing to identify actual defaulters) are costly mistakes, the F1 score serves as a single measure to gauge a model's balanced performance.\n",
    "\n",
    "**Given the business objective of minimizing risk and offering assistance to at-risk customers, F1 score is the most appropriate metric to focus on. It ensures that the model doesn't overly prioritize precision over recall or vice versa.**"
   ]
  },
  {
   "cell_type": "markdown",
   "id": "ef45fb1b-0a94-4d38-8159-88c5a42b2589",
   "metadata": {},
   "source": [
    "### Model Interpretation and Conclusion\n",
    "**Based on the performance metrics, the MLP Classifier has the highest F1 score, suggesting that it has the best balance between precision and recall. While it is not the model with the highest accuracy, this is not the primary concern due to the reasons discussed above. The MLP Classifier seems to be the most suitable choice for identifying credit card defaulters, given the balance between not missing actual defaulters (high recall) and not wrongly classifying non-defaulters as defaulters (high precision).**\n",
    "\n",
    "The Decision Tree model follows closely with a slightly lower F1 score but has the benefit of potentially better generalization due to its ensemble nature, which might be a consideration for deployment.\n",
    "\n",
    "The SVC classifier model has the lowest F1 score, which suggests that it might not be capturing the complexities of the relationships in the data as effectively as the other models.\n",
    "\n",
    "These models could potentially be improved with more feature engineering or hyperparameter tuning but as it stands, they are not the top performers.\n",
    "\n",
    "In conclusion, considering the business objective and the balance between precision and recall required, the MLP Classifier should be the first model to consider for deployment in predicting credit card defaulters. However, one must also consider model interpretability, computational efficiency, and how the model would be integrated into the existing decision-making process within the institution. Other factors, such as model robustness and how it handles new or evolving patterns of credit default, should also be taken into account before finalizing the decision."
   ]
  },
  {
   "cell_type": "markdown",
   "id": "cde80005-90e8-419b-84d0-e220037e7075",
   "metadata": {},
   "source": [
    "## Step 8: Best Model Result - MLP Classifier"
   ]
  },
  {
   "cell_type": "markdown",
   "id": "419b6ef0-7cc8-47f7-b542-c4fbd0cbf9e2",
   "metadata": {},
   "source": [
    "### Perfomance "
   ]
  },
  {
   "cell_type": "code",
   "execution_count": 92,
   "id": "353b38ef-ce86-460d-8a61-797bfc959117",
   "metadata": {},
   "outputs": [
    {
     "name": "stdout",
     "output_type": "stream",
     "text": [
      "+--------------+---------+---------+---------+---------+\n",
      "|         Model| Accuracy|Precision|   Recall|       F1|\n",
      "+--------------+---------+---------+---------+---------+\n",
      "|MLP Classifier|0.7858559|0.7552329|0.7858559|0.7480654|\n",
      "+--------------+---------+---------+---------+---------+\n",
      "\n"
     ]
    }
   ],
   "source": [
    "## Performance\n",
    "# Filter the performance DataFrame for the MLP Classifier model\n",
    "mlp_performance = performance.filter(performance['Model'] == 'MLP Classifier')\n",
    "\n",
    "# Show the performance metrics for MLP Classifier\n",
    "mlp_performance.show(5)"
   ]
  },
  {
   "cell_type": "markdown",
   "id": "6c00ceca-741f-4c2f-80e4-8bdf1d835205",
   "metadata": {},
   "source": [
    "### Confusion Matrix"
   ]
  },
  {
   "cell_type": "code",
   "execution_count": 93,
   "id": "8f2dc609-4cc8-47ca-9b39-1b0dd469aa45",
   "metadata": {},
   "outputs": [],
   "source": [
    "# Calculate confusion matrix\n",
    "confusion_matrix_mlp = predict.groupBy('indexed').pivot('prediction', [0, 1]).count()"
   ]
  },
  {
   "cell_type": "code",
   "execution_count": 94,
   "id": "6a77fb71-5b7a-42c3-bd24-af5d4801a0be",
   "metadata": {},
   "outputs": [
    {
     "name": "stdout",
     "output_type": "stream",
     "text": [
      "+-------+----+---+\n",
      "|indexed|   0|  1|\n",
      "+-------+----+---+\n",
      "|    0.0|6654|339|\n",
      "|    1.0|1605|480|\n",
      "+-------+----+---+\n",
      "\n"
     ]
    }
   ],
   "source": [
    "# Display confusion matrix\n",
    "confusion_matrix_mlp.show()"
   ]
  },
  {
   "cell_type": "markdown",
   "id": "5d8b6b76-06d2-434e-a9f3-bea7a449e7a1",
   "metadata": {},
   "source": [
    "### AUC"
   ]
  },
  {
   "cell_type": "code",
   "execution_count": 95,
   "id": "6b00ee33-24a4-4167-a30c-d241feaeebfc",
   "metadata": {},
   "outputs": [
    {
     "name": "stdout",
     "output_type": "stream",
     "text": [
      "The area under the curve is 0.59\n"
     ]
    }
   ],
   "source": [
    "from pyspark.ml.evaluation import BinaryClassificationEvaluator\n",
    "\n",
    "AUC_evaluator = BinaryClassificationEvaluator(rawPredictionCol='prediction',labelCol='indexed',metricName='areaUnderROC')\n",
    "AUC = AUC_evaluator.evaluate(predict)\n",
    "\n",
    "print(f\"The area under the curve is {AUC:.2f}\")"
   ]
  },
  {
   "cell_type": "markdown",
   "id": "8482760c-87f9-416b-8323-3b5f67a6d792",
   "metadata": {},
   "source": [
    "The AUC of the ROC is a measure of a model's ability to distinguish between classes. An AUC of 0.59 suggests that the model's ability to differentiate defaulters from non-defaulters is marginally better than random chance. In ideal scenarios, you want this number to be as close to 1 as possible, indicating strong predictive capabilities."
   ]
  },
  {
   "cell_type": "markdown",
   "id": "1f42373a-29b7-458e-b5b1-f1e2b0bddbc9",
   "metadata": {},
   "source": [
    "###  Area under the PR curve"
   ]
  },
  {
   "cell_type": "code",
   "execution_count": 96,
   "id": "9fc408fe-c5ed-4915-b8ce-4bc7240c1e18",
   "metadata": {
    "tags": []
   },
   "outputs": [
    {
     "name": "stdout",
     "output_type": "stream",
     "text": [
      "The area under the PR curve is 0.44890333529679827\n"
     ]
    }
   ],
   "source": [
    "PR_evaluator = BinaryClassificationEvaluator(rawPredictionCol='prediction',labelCol='indexed',metricName='areaUnderPR')\n",
    "PR = PR_evaluator.evaluate(predict)\n",
    "\n",
    "print(\"The area under the PR curve is {}\".format(PR))"
   ]
  },
  {
   "cell_type": "markdown",
   "id": "b8553dd4-cc98-4189-a8eb-b4fd61026d03",
   "metadata": {},
   "source": [
    "The area under the Precision-Recall curve represents the model's effectiveness in identifying positive instances (defaulters) when faced with a class imbalance. A score of 0.44 shows moderate performance, indicating that when the model predicts a default, it is correct about 44% of the time. Higher values are better, as they would mean the model is more precise and still able to capture a good proportion of actual positives."
   ]
  },
  {
   "cell_type": "code",
   "execution_count": 97,
   "id": "b6163585-28ee-4823-a31f-a705c4f076ff",
   "metadata": {
    "tags": []
   },
   "outputs": [],
   "source": [
    "## Stop the spark session\n",
    "spark.stop()"
   ]
  },
  {
   "cell_type": "code",
   "execution_count": null,
   "id": "eaff5798-cb12-4b5c-8985-c67fb3c09824",
   "metadata": {},
   "outputs": [],
   "source": []
  }
 ],
 "metadata": {
  "kernelspec": {
   "display_name": "Python 3 (ipykernel)",
   "language": "python",
   "name": "python3"
  },
  "language_info": {
   "codemirror_mode": {
    "name": "ipython",
    "version": 3
   },
   "file_extension": ".py",
   "mimetype": "text/x-python",
   "name": "python",
   "nbconvert_exporter": "python",
   "pygments_lexer": "ipython3",
   "version": "3.11.5"
  }
 },
 "nbformat": 4,
 "nbformat_minor": 5
}
